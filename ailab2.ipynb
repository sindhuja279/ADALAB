{
  "nbformat": 4,
  "nbformat_minor": 0,
  "metadata": {
    "colab": {
      "provenance": [],
      "authorship_tag": "ABX9TyNJB7LSlatH1gT5Ag6XODCN",
      "include_colab_link": true
    },
    "kernelspec": {
      "name": "python3",
      "display_name": "Python 3"
    },
    "language_info": {
      "name": "python"
    }
  },
  "cells": [
    {
      "cell_type": "markdown",
      "metadata": {
        "id": "view-in-github",
        "colab_type": "text"
      },
      "source": [
        "<a href=\"https://colab.research.google.com/github/sindhuja279/ADALAB/blob/main/ailab2.ipynb\" target=\"_parent\"><img src=\"https://colab.research.google.com/assets/colab-badge.svg\" alt=\"Open In Colab\"/></a>"
      ]
    },
    {
      "cell_type": "code",
      "execution_count": null,
      "metadata": {
        "id": "AlhXAbAaPuDO",
        "outputId": "894df5e6-bac5-4355-e6c1-e62879f22be2",
        "colab": {
          "base_uri": "https://localhost:8080/",
          "height": 353
        }
      },
      "outputs": [
        {
          "output_type": "error",
          "ename": "KeyboardInterrupt",
          "evalue": "Interrupted by user",
          "traceback": [
            "\u001b[0;31m---------------------------------------------------------------------------\u001b[0m",
            "\u001b[0;31mKeyboardInterrupt\u001b[0m                         Traceback (most recent call last)",
            "\u001b[0;32m<ipython-input-28-7fef359deeb7>\u001b[0m in \u001b[0;36m<cell line: 45>\u001b[0;34m()\u001b[0m\n\u001b[1;32m     43\u001b[0m     \u001b[0mvacuum\u001b[0m\u001b[0;34m.\u001b[0m\u001b[0mclean\u001b[0m\u001b[0;34m(\u001b[0m\u001b[0;34m)\u001b[0m\u001b[0;34m\u001b[0m\u001b[0;34m\u001b[0m\u001b[0m\n\u001b[1;32m     44\u001b[0m \u001b[0;34m\u001b[0m\u001b[0m\n\u001b[0;32m---> 45\u001b[0;31m \u001b[0mmain\u001b[0m\u001b[0;34m(\u001b[0m\u001b[0;34m)\u001b[0m\u001b[0;34m\u001b[0m\u001b[0;34m\u001b[0m\u001b[0m\n\u001b[0m\u001b[1;32m     46\u001b[0m \u001b[0;34m\u001b[0m\u001b[0m\n",
            "\u001b[0;32m<ipython-input-28-7fef359deeb7>\u001b[0m in \u001b[0;36mmain\u001b[0;34m()\u001b[0m\n\u001b[1;32m     39\u001b[0m \u001b[0;34m\u001b[0m\u001b[0m\n\u001b[1;32m     40\u001b[0m \u001b[0;32mdef\u001b[0m \u001b[0mmain\u001b[0m\u001b[0;34m(\u001b[0m\u001b[0;34m)\u001b[0m\u001b[0;34m:\u001b[0m\u001b[0;34m\u001b[0m\u001b[0;34m\u001b[0m\u001b[0m\n\u001b[0;32m---> 41\u001b[0;31m     \u001b[0mlocation\u001b[0m\u001b[0;34m,\u001b[0m \u001b[0mstatus\u001b[0m \u001b[0;34m=\u001b[0m \u001b[0mget_user_input\u001b[0m\u001b[0;34m(\u001b[0m\u001b[0;34m)\u001b[0m\u001b[0;34m\u001b[0m\u001b[0;34m\u001b[0m\u001b[0m\n\u001b[0m\u001b[1;32m     42\u001b[0m     \u001b[0mvacuum\u001b[0m \u001b[0;34m=\u001b[0m \u001b[0mVacuumCleaner\u001b[0m\u001b[0;34m(\u001b[0m\u001b[0mlocation\u001b[0m\u001b[0;34m,\u001b[0m \u001b[0mstatus\u001b[0m\u001b[0;34m)\u001b[0m\u001b[0;34m\u001b[0m\u001b[0;34m\u001b[0m\u001b[0m\n\u001b[1;32m     43\u001b[0m     \u001b[0mvacuum\u001b[0m\u001b[0;34m.\u001b[0m\u001b[0mclean\u001b[0m\u001b[0;34m(\u001b[0m\u001b[0;34m)\u001b[0m\u001b[0;34m\u001b[0m\u001b[0;34m\u001b[0m\u001b[0m\n",
            "\u001b[0;32m<ipython-input-28-7fef359deeb7>\u001b[0m in \u001b[0;36mget_user_input\u001b[0;34m()\u001b[0m\n\u001b[1;32m     33\u001b[0m \u001b[0;34m\u001b[0m\u001b[0m\n\u001b[1;32m     34\u001b[0m \u001b[0;32mdef\u001b[0m \u001b[0mget_user_input\u001b[0m\u001b[0;34m(\u001b[0m\u001b[0;34m)\u001b[0m\u001b[0;34m:\u001b[0m\u001b[0;34m\u001b[0m\u001b[0;34m\u001b[0m\u001b[0m\n\u001b[0;32m---> 35\u001b[0;31m     \u001b[0mlocation\u001b[0m \u001b[0;34m=\u001b[0m \u001b[0minput\u001b[0m\u001b[0;34m(\u001b[0m\u001b[0;34m\"Enter initial location (A or B): \"\u001b[0m\u001b[0;34m)\u001b[0m\u001b[0;34m.\u001b[0m\u001b[0mstrip\u001b[0m\u001b[0;34m(\u001b[0m\u001b[0;34m)\u001b[0m\u001b[0;34m.\u001b[0m\u001b[0mupper\u001b[0m\u001b[0;34m(\u001b[0m\u001b[0;34m)\u001b[0m\u001b[0;34m\u001b[0m\u001b[0;34m\u001b[0m\u001b[0m\n\u001b[0m\u001b[1;32m     36\u001b[0m     \u001b[0ma_status\u001b[0m \u001b[0;34m=\u001b[0m \u001b[0mint\u001b[0m\u001b[0;34m(\u001b[0m\u001b[0minput\u001b[0m\u001b[0;34m(\u001b[0m\u001b[0;34m\"Enter status of Room A (0 for clean, 1 for dirty): \"\u001b[0m\u001b[0;34m)\u001b[0m\u001b[0;34m)\u001b[0m\u001b[0;34m\u001b[0m\u001b[0;34m\u001b[0m\u001b[0m\n\u001b[1;32m     37\u001b[0m     \u001b[0mb_status\u001b[0m \u001b[0;34m=\u001b[0m \u001b[0mint\u001b[0m\u001b[0;34m(\u001b[0m\u001b[0minput\u001b[0m\u001b[0;34m(\u001b[0m\u001b[0;34m\"Enter status of Room B (0 for clean, 1 for dirty): \"\u001b[0m\u001b[0;34m)\u001b[0m\u001b[0;34m)\u001b[0m\u001b[0;34m\u001b[0m\u001b[0;34m\u001b[0m\u001b[0m\n",
            "\u001b[0;32m/usr/local/lib/python3.10/dist-packages/ipykernel/kernelbase.py\u001b[0m in \u001b[0;36mraw_input\u001b[0;34m(self, prompt)\u001b[0m\n\u001b[1;32m    849\u001b[0m                 \u001b[0;34m\"raw_input was called, but this frontend does not support input requests.\"\u001b[0m\u001b[0;34m\u001b[0m\u001b[0;34m\u001b[0m\u001b[0m\n\u001b[1;32m    850\u001b[0m             )\n\u001b[0;32m--> 851\u001b[0;31m         return self._input_request(str(prompt),\n\u001b[0m\u001b[1;32m    852\u001b[0m             \u001b[0mself\u001b[0m\u001b[0;34m.\u001b[0m\u001b[0m_parent_ident\u001b[0m\u001b[0;34m,\u001b[0m\u001b[0;34m\u001b[0m\u001b[0;34m\u001b[0m\u001b[0m\n\u001b[1;32m    853\u001b[0m             \u001b[0mself\u001b[0m\u001b[0;34m.\u001b[0m\u001b[0m_parent_header\u001b[0m\u001b[0;34m,\u001b[0m\u001b[0;34m\u001b[0m\u001b[0;34m\u001b[0m\u001b[0m\n",
            "\u001b[0;32m/usr/local/lib/python3.10/dist-packages/ipykernel/kernelbase.py\u001b[0m in \u001b[0;36m_input_request\u001b[0;34m(self, prompt, ident, parent, password)\u001b[0m\n\u001b[1;32m    893\u001b[0m             \u001b[0;32mexcept\u001b[0m \u001b[0mKeyboardInterrupt\u001b[0m\u001b[0;34m:\u001b[0m\u001b[0;34m\u001b[0m\u001b[0;34m\u001b[0m\u001b[0m\n\u001b[1;32m    894\u001b[0m                 \u001b[0;31m# re-raise KeyboardInterrupt, to truncate traceback\u001b[0m\u001b[0;34m\u001b[0m\u001b[0;34m\u001b[0m\u001b[0m\n\u001b[0;32m--> 895\u001b[0;31m                 \u001b[0;32mraise\u001b[0m \u001b[0mKeyboardInterrupt\u001b[0m\u001b[0;34m(\u001b[0m\u001b[0;34m\"Interrupted by user\"\u001b[0m\u001b[0;34m)\u001b[0m \u001b[0;32mfrom\u001b[0m \u001b[0;32mNone\u001b[0m\u001b[0;34m\u001b[0m\u001b[0;34m\u001b[0m\u001b[0m\n\u001b[0m\u001b[1;32m    896\u001b[0m             \u001b[0;32mexcept\u001b[0m \u001b[0mException\u001b[0m \u001b[0;32mas\u001b[0m \u001b[0me\u001b[0m\u001b[0;34m:\u001b[0m\u001b[0;34m\u001b[0m\u001b[0;34m\u001b[0m\u001b[0m\n\u001b[1;32m    897\u001b[0m                 \u001b[0mself\u001b[0m\u001b[0;34m.\u001b[0m\u001b[0mlog\u001b[0m\u001b[0;34m.\u001b[0m\u001b[0mwarning\u001b[0m\u001b[0;34m(\u001b[0m\u001b[0;34m\"Invalid Message:\"\u001b[0m\u001b[0;34m,\u001b[0m \u001b[0mexc_info\u001b[0m\u001b[0;34m=\u001b[0m\u001b[0;32mTrue\u001b[0m\u001b[0;34m)\u001b[0m\u001b[0;34m\u001b[0m\u001b[0;34m\u001b[0m\u001b[0m\n",
            "\u001b[0;31mKeyboardInterrupt\u001b[0m: Interrupted by user"
          ]
        }
      ],
      "source": [
        "class VacuumCleaner:\n",
        "    def __init__(self, location, status):\n",
        "        self.location = location\n",
        "        self.status = status\n",
        "        self.goal_state = [0, 0]\n",
        "        self.cost = 0\n",
        "\n",
        "    def clean(self):\n",
        "        while self.status != self.goal_state:\n",
        "            if self.location == 'A':\n",
        "                if self.status[0] == 1:\n",
        "                    print(\"Location A is Dirty. Cleaning Location A.\")\n",
        "                    self.status[0] = 0\n",
        "                    self.cost += 1\n",
        "                    print(f\"Location A has been Cleaned. COST for SUCK: {self.cost}\")\n",
        "                else:\n",
        "                    print(\"Location A is already clean.\")\n",
        "                print(\"Moving to Location B.\")\n",
        "                self.location = 'B'\n",
        "\n",
        "            elif self.location == 'B':\n",
        "                if self.status[1] == 1:\n",
        "                    print(\"Location B is Dirty. Cleaning Location B.\")\n",
        "                    self.status[1] = 0\n",
        "                    self.cost += 1\n",
        "                    print(f\"Location B has been Cleaned. COST for SUCK: {self.cost}\")\n",
        "                else:\n",
        "                    print(\"Location B is already clean.\")\n",
        "                print(\"Moving to Location A.\")\n",
        "                self.location = 'A'\n",
        "\n",
        "        print(f\"Goal state achieved: {self.status} with total cost: {self.cost}\")\n",
        "\n",
        "def get_user_input():\n",
        "    location = input(\"Enter initial location (A or B): \").strip().upper()\n",
        "    a_status = int(input(\"Enter status of Room A (0 for clean, 1 for dirty): \"))\n",
        "    b_status = int(input(\"Enter status of Room B (0 for clean, 1 for dirty): \"))\n",
        "    return location, [a_status, b_status]\n",
        "\n",
        "def main():\n",
        "    location, status = get_user_input()\n",
        "    vacuum = VacuumCleaner(location, status)\n",
        "    vacuum.clean()\n",
        "\n",
        "main()\n"
      ]
    },
    {
      "cell_type": "code",
      "source": [
        "def vacuum_cleaner():\n",
        "\n",
        "    location = input(\"Enter the initial location (A, B, C, or D): \").strip().upper()\n",
        "    a_status = int(input(\"Enter the status of Room A (0 for clean, 1 for dirty): \"))\n",
        "    b_status = int(input(\"Enter the status of Room B (0 for clean, 1 for dirty): \"))\n",
        "    c_status = int(input(\"Enter the status of Room C (0 for clean, 1 for dirty): \"))\n",
        "    d_status = int(input(\"Enter the status of Room D (0 for clean, 1 for dirty): \"))\n",
        "\n",
        "    status = {'A': a_status, 'B': b_status, 'C': c_status, 'D': d_status}\n",
        "    goal_state = {'A': 0, 'B': 0, 'C': 0, 'D': 0}\n",
        "    cost = 0\n",
        "    cleaning_limit = int(input(\"Enter the cleaning limit (number of rooms it can clean before recharging): \"))\n",
        "    cleaned_rooms = 0\n",
        "\n",
        "    while status != goal_state:\n",
        "        if cleaned_rooms >= cleaning_limit:\n",
        "            print(\"Cleaning limit reached. The vacuum needs to recharge.\")\n",
        "\n",
        "            cleaned_rooms = 0\n",
        "            print(\"The vacuum is recharging...\")\n",
        "            continue\n",
        "\n",
        "        if status[location] == 1:\n",
        "            print(f\"Location {location} is Dirty. Cleaning Location {location}.\")\n",
        "            status[location] = 0\n",
        "            cost += 1\n",
        "            cleaned_rooms += 1\n",
        "            print(f\"Location {location} has been Cleaned. COST for SUCK: {cost}.\")\n",
        "        else:\n",
        "            print(f\"Location {location} is already clean.\")\n",
        "\n",
        "\n",
        "        if location == 'A':\n",
        "            location = 'B'\n",
        "        elif location == 'B':\n",
        "            location = 'C'\n",
        "        elif location == 'C':\n",
        "            location = 'D'\n",
        "        elif location == 'D':\n",
        "            location = 'A'\n",
        "\n",
        "        print(f\"Moving to Location {location}.\")\n",
        "\n",
        "\n",
        "        if status == goal_state:\n",
        "            print(f\"Goal state achieved: {status} with total cost: {cost}.\")\n",
        "            break\n",
        "\n",
        "    print(\"Final Status of Rooms: {'A': 0, 'B': 0, 'C': 0, 'D': 0}  0\")\n",
        "\n",
        "\n",
        "vacuum_cleaner()\n"
      ],
      "metadata": {
        "id": "j05eVMJdXCaH",
        "outputId": "aae1f78a-880a-4309-b562-e2cadc88a863",
        "colab": {
          "base_uri": "https://localhost:8080/"
        }
      },
      "execution_count": null,
      "outputs": [
        {
          "output_type": "stream",
          "name": "stdout",
          "text": [
            "Enter the initial location (A, B, C, or D): A\n",
            "Enter the status of Room A (0 for clean, 1 for dirty): 1\n",
            "Enter the status of Room B (0 for clean, 1 for dirty): 1\n",
            "Enter the status of Room C (0 for clean, 1 for dirty): 1\n",
            "Enter the status of Room D (0 for clean, 1 for dirty): 1\n",
            "Enter the cleaning limit (number of rooms it can clean before recharging): 2\n",
            "Location A is Dirty. Cleaning Location A.\n",
            "Location A has been Cleaned. COST for SUCK: 1.\n",
            "Moving to Location B.\n",
            "Location B is Dirty. Cleaning Location B.\n",
            "Location B has been Cleaned. COST for SUCK: 2.\n",
            "Moving to Location C.\n",
            "Cleaning limit reached. The vacuum needs to recharge.\n",
            "The vacuum is recharging...\n",
            "Location C is Dirty. Cleaning Location C.\n",
            "Location C has been Cleaned. COST for SUCK: 3.\n",
            "Moving to Location D.\n",
            "Location D is Dirty. Cleaning Location D.\n",
            "Location D has been Cleaned. COST for SUCK: 4.\n",
            "Moving to Location A.\n",
            "Goal state achieved: {'A': 0, 'B': 0, 'C': 0, 'D': 0} with total cost: 4.\n",
            "Final Status of Rooms: {'A': 0, 'B': 0, 'C': 0, 'D': 0}  0\n"
          ]
        }
      ]
    }
  ]
}